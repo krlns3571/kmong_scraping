{
 "cells": [
  {
   "cell_type": "code",
   "execution_count": 2,
   "id": "85f5ef9e",
   "metadata": {},
   "outputs": [
    {
     "name": "stdout",
     "output_type": "stream",
     "text": [
      "Requirement already satisfied: selenium in c:\\users\\chemt\\anaconda3\\lib\\site-packages (4.1.3)\n",
      "Requirement already satisfied: trio-websocket~=0.9 in c:\\users\\chemt\\anaconda3\\lib\\site-packages (from selenium) (0.9.2)\n",
      "Requirement already satisfied: urllib3[secure,socks]~=1.26 in c:\\users\\chemt\\anaconda3\\lib\\site-packages (from selenium) (1.26.7)\n",
      "Requirement already satisfied: trio~=0.17 in c:\\users\\chemt\\anaconda3\\lib\\site-packages (from selenium) (0.20.0)\n",
      "Requirement already satisfied: sortedcontainers in c:\\users\\chemt\\anaconda3\\lib\\site-packages (from trio~=0.17->selenium) (2.4.0)\n",
      "Requirement already satisfied: idna in c:\\users\\chemt\\anaconda3\\lib\\site-packages (from trio~=0.17->selenium) (3.2)\n",
      "Requirement already satisfied: sniffio in c:\\users\\chemt\\anaconda3\\lib\\site-packages (from trio~=0.17->selenium) (1.2.0)\n",
      "Requirement already satisfied: outcome in c:\\users\\chemt\\anaconda3\\lib\\site-packages (from trio~=0.17->selenium) (1.1.0)\n",
      "Requirement already satisfied: attrs>=19.2.0 in c:\\users\\chemt\\anaconda3\\lib\\site-packages (from trio~=0.17->selenium) (21.2.0)\n",
      "Requirement already satisfied: cffi>=1.14 in c:\\users\\chemt\\anaconda3\\lib\\site-packages (from trio~=0.17->selenium) (1.14.6)\n",
      "Requirement already satisfied: async-generator>=1.9 in c:\\users\\chemt\\anaconda3\\lib\\site-packages (from trio~=0.17->selenium) (1.10)\n",
      "Requirement already satisfied: pycparser in c:\\users\\chemt\\anaconda3\\lib\\site-packages (from cffi>=1.14->trio~=0.17->selenium) (2.20)\n",
      "Requirement already satisfied: wsproto>=0.14 in c:\\users\\chemt\\anaconda3\\lib\\site-packages (from trio-websocket~=0.9->selenium) (1.1.0)\n",
      "Requirement already satisfied: pyOpenSSL>=0.14 in c:\\users\\chemt\\anaconda3\\lib\\site-packages (from urllib3[secure,socks]~=1.26->selenium) (21.0.0)\n",
      "Requirement already satisfied: cryptography>=1.3.4 in c:\\users\\chemt\\anaconda3\\lib\\site-packages (from urllib3[secure,socks]~=1.26->selenium) (3.4.8)\n",
      "Requirement already satisfied: certifi in c:\\users\\chemt\\anaconda3\\lib\\site-packages (from urllib3[secure,socks]~=1.26->selenium) (2021.10.8)\n",
      "Requirement already satisfied: PySocks!=1.5.7,<2.0,>=1.5.6 in c:\\users\\chemt\\anaconda3\\lib\\site-packages (from urllib3[secure,socks]~=1.26->selenium) (1.7.1)\n",
      "Requirement already satisfied: six>=1.5.2 in c:\\users\\chemt\\anaconda3\\lib\\site-packages (from pyOpenSSL>=0.14->urllib3[secure,socks]~=1.26->selenium) (1.16.0)\n",
      "Requirement already satisfied: h11<1,>=0.9.0 in c:\\users\\chemt\\anaconda3\\lib\\site-packages (from wsproto>=0.14->trio-websocket~=0.9->selenium) (0.13.0)\n",
      "Note: you may need to restart the kernel to use updated packages.\n"
     ]
    }
   ],
   "source": [
    "pip install selenium"
   ]
  },
  {
   "cell_type": "code",
   "execution_count": 3,
   "id": "601b377e",
   "metadata": {},
   "outputs": [
    {
     "name": "stdout",
     "output_type": "stream",
     "text": [
      "Requirement already satisfied: webdriver-manager in c:\\users\\chemt\\anaconda3\\lib\\site-packages (3.5.4)\n",
      "Requirement already satisfied: requests in c:\\users\\chemt\\anaconda3\\lib\\site-packages (from webdriver-manager) (2.26.0)\n",
      "Requirement already satisfied: charset-normalizer~=2.0.0 in c:\\users\\chemt\\anaconda3\\lib\\site-packages (from requests->webdriver-manager) (2.0.4)\n",
      "Requirement already satisfied: certifi>=2017.4.17 in c:\\users\\chemt\\anaconda3\\lib\\site-packages (from requests->webdriver-manager) (2021.10.8)\n",
      "Requirement already satisfied: idna<4,>=2.5 in c:\\users\\chemt\\anaconda3\\lib\\site-packages (from requests->webdriver-manager) (3.2)\n",
      "Requirement already satisfied: urllib3<1.27,>=1.21.1 in c:\\users\\chemt\\anaconda3\\lib\\site-packages (from requests->webdriver-manager) (1.26.7)\n",
      "Note: you may need to restart the kernel to use updated packages.\n"
     ]
    }
   ],
   "source": [
    "pip install webdriver-manager"
   ]
  },
  {
   "cell_type": "code",
   "execution_count": 4,
   "id": "ed1128e9",
   "metadata": {
    "scrolled": true
   },
   "outputs": [
    {
     "name": "stderr",
     "output_type": "stream",
     "text": [
      "\n",
      "\n",
      "====== WebDriver manager ======\n",
      "Current google-chrome version is 99.0.4844\n",
      "Get LATEST chromedriver version for 99.0.4844 google-chrome\n",
      "Driver [C:\\Users\\chemt\\.wdm\\drivers\\chromedriver\\win32\\99.0.4844.51\\chromedriver.exe] found in cache\n",
      "C:\\Users\\chemt\\AppData\\Local\\Temp/ipykernel_17160/2270138815.py:18: DeprecationWarning: executable_path has been deprecated, please pass in a Service object\n",
      "  driver = webdriver.Chrome(ChromeDriverManager().install(), options=options)\n",
      "C:\\Users\\chemt\\AppData\\Local\\Temp/ipykernel_17160/2270138815.py:25: DeprecationWarning: find_element_by_name is deprecated. Please use find_element(by=By.NAME, value=name) instead\n",
      "  driver.find_element_by_name('userid').send_keys('1120haeun')\n",
      "C:\\Users\\chemt\\AppData\\Local\\Temp/ipykernel_17160/2270138815.py:26: DeprecationWarning: find_element_by_name is deprecated. Please use find_element(by=By.NAME, value=name) instead\n",
      "  driver.find_element_by_name('password').send_keys('junhaeun4356')\n",
      "C:\\Users\\chemt\\AppData\\Local\\Temp/ipykernel_17160/2270138815.py:30: DeprecationWarning: find_element_by_xpath is deprecated. Please use find_element(by=By.XPATH, value=xpath) instead\n",
      "  driver.find_element_by_xpath('//*[@class=\"submit\"]/input').click()\n"
     ]
    }
   ],
   "source": [
    "#자동 로그인\n",
    "import selenium\n",
    "from selenium import webdriver\n",
    "from webdriver_manager.chrome import ChromeDriverManager\n",
    "from selenium.webdriver.chrome.service import Service\n",
    "import time\n",
    "import pandas as pd\n",
    "import random\n",
    "\n",
    "#에브리타임 자동 로그인\n",
    "\n",
    "#가상브라우저 사용\n",
    "options = webdriver.ChromeOptions()\n",
    "options.add_argument(\"no-sandbox\")\n",
    "options.add_argument(\"--disable-dev-shm-usage\")\n",
    "options.add_argument(\"user-agent={Mozilla/5.0 (X11; Linux x86_64) AppleWebKit/537.36 (KHTML, like Gecko) Chrome/85.0.4183.121 Safari/537.36}\")\n",
    "\n",
    "driver = webdriver.Chrome(ChromeDriverManager().install(), options=options)\n",
    "driver.maximize_window()\n",
    "\n",
    "baseURL = 'https://everytime.kr/login'\n",
    "driver.implicitly_wait(1)\n",
    "\n",
    "driver.get(baseURL)\n",
    "driver.find_element_by_name('userid').send_keys('1120haeun')\n",
    "driver.find_element_by_name('password').send_keys('junhaeun4356')\n",
    "\n",
    "rand_value = random.uniform(2,4)\n",
    "time.sleep(rand_value)\n",
    "driver.find_element_by_xpath('//*[@class=\"submit\"]/input').click()\n",
    "driver.implicitly_wait(1)"
   ]
  },
  {
   "cell_type": "code",
   "execution_count": 25,
   "id": "f5a268d8",
   "metadata": {},
   "outputs": [
    {
     "name": "stderr",
     "output_type": "stream",
     "text": [
      "C:\\Users\\chemt\\AppData\\Local\\Temp/ipykernel_17160/2901327063.py:9: DeprecationWarning: find_element_by_xpath is deprecated. Please use find_element(by=By.XPATH, value=xpath) instead\n",
      "  driver.find_element_by_xpath('//*[@id=\"container\"]/ul/li[1]').click()\n",
      "C:\\Users\\chemt\\AppData\\Local\\Temp/ipykernel_17160/2901327063.py:26: DeprecationWarning: find_elements_by_css_selector is deprecated. Please use find_elements(by=By.CSS_SELECTOR, value=css_selector) instead\n",
      "  element = driver.find_elements_by_css_selector(\"#subjects > div.list > table > tbody > tr\")\n"
     ]
    },
    {
     "ename": "WebDriverException",
     "evalue": "Message: disconnected: Unable to receive message from renderer\n  (Session info: chrome=99.0.4844.82)\nStacktrace:\nBacktrace:\n\tOrdinal0 [0x009A9943+2595139]\n\tOrdinal0 [0x0093C9F1+2148849]\n\tOrdinal0 [0x00834528+1066280]\n\tOrdinal0 [0x00825D32+1006898]\n\tOrdinal0 [0x00824AD0+1002192]\n\tOrdinal0 [0x008250D8+1003736]\n\tOrdinal0 [0x0083C6EF+1099503]\n\tOrdinal0 [0x0083692B+1075499]\n\tOrdinal0 [0x008364A5+1074341]\n\tOrdinal0 [0x00836C7B+1076347]\n\tOrdinal0 [0x00836F50+1077072]\n\tOrdinal0 [0x00860D1E+1248542]\n\tOrdinal0 [0x008611CB+1249739]\n\tOrdinal0 [0x0088D84C+1431628]\n\tOrdinal0 [0x0087BA34+1358388]\n\tOrdinal0 [0x0088BAF2+1424114]\n\tOrdinal0 [0x0087B806+1357830]\n\tOrdinal0 [0x00856086+1204358]\n\tOrdinal0 [0x00856F96+1208214]\n\tGetHandleVerifier [0x00B4B232+1658114]\n\tGetHandleVerifier [0x00C0312C+2411516]\n\tGetHandleVerifier [0x00A3F261+560433]\n\tGetHandleVerifier [0x00A3E366+556598]\n\tOrdinal0 [0x0094286B+2173035]\n\tOrdinal0 [0x009475F8+2192888]\n\tOrdinal0 [0x009476E5+2193125]\n\tOrdinal0 [0x009511FC+2232828]\n\tBaseThreadInitThunk [0x74C86739+25]\n\tRtlGetFullPathName_UEx [0x76F48E7F+1215]\n\tRtlGetFullPathName_UEx [0x76F48E4D+1165]\n",
     "output_type": "error",
     "traceback": [
      "\u001b[1;31m---------------------------------------------------------------------------\u001b[0m",
      "\u001b[1;31mWebDriverException\u001b[0m                        Traceback (most recent call last)",
      "\u001b[1;32m~\\AppData\\Local\\Temp/ipykernel_17160/2901327063.py\u001b[0m in \u001b[0;36m<module>\u001b[1;34m\u001b[0m\n\u001b[0;32m     24\u001b[0m \u001b[1;32mwhile\u001b[0m \u001b[1;32mTrue\u001b[0m\u001b[1;33m:\u001b[0m\u001b[1;33m\u001b[0m\u001b[1;33m\u001b[0m\u001b[0m\n\u001b[0;32m     25\u001b[0m     \u001b[1;31m#tr요소 접근\u001b[0m\u001b[1;33m\u001b[0m\u001b[1;33m\u001b[0m\u001b[0m\n\u001b[1;32m---> 26\u001b[1;33m     \u001b[0melement\u001b[0m \u001b[1;33m=\u001b[0m \u001b[0mdriver\u001b[0m\u001b[1;33m.\u001b[0m\u001b[0mfind_elements_by_css_selector\u001b[0m\u001b[1;33m(\u001b[0m\u001b[1;34m\"#subjects > div.list > table > tbody > tr\"\u001b[0m\u001b[1;33m)\u001b[0m\u001b[1;33m\u001b[0m\u001b[1;33m\u001b[0m\u001b[0m\n\u001b[0m\u001b[0;32m     27\u001b[0m \u001b[1;33m\u001b[0m\u001b[0m\n\u001b[0;32m     28\u001b[0m     \u001b[1;31m# tr 마지막 요소 접근\u001b[0m\u001b[1;33m\u001b[0m\u001b[1;33m\u001b[0m\u001b[0m\n",
      "\u001b[1;32m~\\anaconda3\\lib\\site-packages\\selenium\\webdriver\\remote\\webdriver.py\u001b[0m in \u001b[0;36mfind_elements_by_css_selector\u001b[1;34m(self, css_selector)\u001b[0m\n\u001b[0;32m    830\u001b[0m             \u001b[0mstacklevel\u001b[0m\u001b[1;33m=\u001b[0m\u001b[1;36m2\u001b[0m\u001b[1;33m,\u001b[0m\u001b[1;33m\u001b[0m\u001b[1;33m\u001b[0m\u001b[0m\n\u001b[0;32m    831\u001b[0m         )\n\u001b[1;32m--> 832\u001b[1;33m         \u001b[1;32mreturn\u001b[0m \u001b[0mself\u001b[0m\u001b[1;33m.\u001b[0m\u001b[0mfind_elements\u001b[0m\u001b[1;33m(\u001b[0m\u001b[0mby\u001b[0m\u001b[1;33m=\u001b[0m\u001b[0mBy\u001b[0m\u001b[1;33m.\u001b[0m\u001b[0mCSS_SELECTOR\u001b[0m\u001b[1;33m,\u001b[0m \u001b[0mvalue\u001b[0m\u001b[1;33m=\u001b[0m\u001b[0mcss_selector\u001b[0m\u001b[1;33m)\u001b[0m\u001b[1;33m\u001b[0m\u001b[1;33m\u001b[0m\u001b[0m\n\u001b[0m\u001b[0;32m    833\u001b[0m \u001b[1;33m\u001b[0m\u001b[0m\n\u001b[0;32m    834\u001b[0m     \u001b[1;32mdef\u001b[0m \u001b[0mpin_script\u001b[0m\u001b[1;33m(\u001b[0m\u001b[0mself\u001b[0m\u001b[1;33m,\u001b[0m \u001b[0mscript\u001b[0m\u001b[1;33m,\u001b[0m \u001b[0mscript_key\u001b[0m\u001b[1;33m=\u001b[0m\u001b[1;32mNone\u001b[0m\u001b[1;33m)\u001b[0m \u001b[1;33m->\u001b[0m \u001b[0mScriptKey\u001b[0m\u001b[1;33m:\u001b[0m\u001b[1;33m\u001b[0m\u001b[1;33m\u001b[0m\u001b[0m\n",
      "\u001b[1;32m~\\anaconda3\\lib\\site-packages\\selenium\\webdriver\\remote\\webdriver.py\u001b[0m in \u001b[0;36mfind_elements\u001b[1;34m(self, by, value)\u001b[0m\n\u001b[0;32m   1281\u001b[0m         \u001b[1;31m# Return empty list if driver returns null\u001b[0m\u001b[1;33m\u001b[0m\u001b[1;33m\u001b[0m\u001b[0m\n\u001b[0;32m   1282\u001b[0m         \u001b[1;31m# See https://github.com/SeleniumHQ/selenium/issues/4555\u001b[0m\u001b[1;33m\u001b[0m\u001b[1;33m\u001b[0m\u001b[0m\n\u001b[1;32m-> 1283\u001b[1;33m         return self.execute(Command.FIND_ELEMENTS, {\n\u001b[0m\u001b[0;32m   1284\u001b[0m             \u001b[1;34m'using'\u001b[0m\u001b[1;33m:\u001b[0m \u001b[0mby\u001b[0m\u001b[1;33m,\u001b[0m\u001b[1;33m\u001b[0m\u001b[1;33m\u001b[0m\u001b[0m\n\u001b[0;32m   1285\u001b[0m             'value': value})['value'] or []\n",
      "\u001b[1;32m~\\anaconda3\\lib\\site-packages\\selenium\\webdriver\\remote\\webdriver.py\u001b[0m in \u001b[0;36mexecute\u001b[1;34m(self, driver_command, params)\u001b[0m\n\u001b[0;32m    423\u001b[0m         \u001b[0mresponse\u001b[0m \u001b[1;33m=\u001b[0m \u001b[0mself\u001b[0m\u001b[1;33m.\u001b[0m\u001b[0mcommand_executor\u001b[0m\u001b[1;33m.\u001b[0m\u001b[0mexecute\u001b[0m\u001b[1;33m(\u001b[0m\u001b[0mdriver_command\u001b[0m\u001b[1;33m,\u001b[0m \u001b[0mparams\u001b[0m\u001b[1;33m)\u001b[0m\u001b[1;33m\u001b[0m\u001b[1;33m\u001b[0m\u001b[0m\n\u001b[0;32m    424\u001b[0m         \u001b[1;32mif\u001b[0m \u001b[0mresponse\u001b[0m\u001b[1;33m:\u001b[0m\u001b[1;33m\u001b[0m\u001b[1;33m\u001b[0m\u001b[0m\n\u001b[1;32m--> 425\u001b[1;33m             \u001b[0mself\u001b[0m\u001b[1;33m.\u001b[0m\u001b[0merror_handler\u001b[0m\u001b[1;33m.\u001b[0m\u001b[0mcheck_response\u001b[0m\u001b[1;33m(\u001b[0m\u001b[0mresponse\u001b[0m\u001b[1;33m)\u001b[0m\u001b[1;33m\u001b[0m\u001b[1;33m\u001b[0m\u001b[0m\n\u001b[0m\u001b[0;32m    426\u001b[0m             response['value'] = self._unwrap_value(\n\u001b[0;32m    427\u001b[0m                 response.get('value', None))\n",
      "\u001b[1;32m~\\anaconda3\\lib\\site-packages\\selenium\\webdriver\\remote\\errorhandler.py\u001b[0m in \u001b[0;36mcheck_response\u001b[1;34m(self, response)\u001b[0m\n\u001b[0;32m    245\u001b[0m                 \u001b[0malert_text\u001b[0m \u001b[1;33m=\u001b[0m \u001b[0mvalue\u001b[0m\u001b[1;33m[\u001b[0m\u001b[1;34m'alert'\u001b[0m\u001b[1;33m]\u001b[0m\u001b[1;33m.\u001b[0m\u001b[0mget\u001b[0m\u001b[1;33m(\u001b[0m\u001b[1;34m'text'\u001b[0m\u001b[1;33m)\u001b[0m\u001b[1;33m\u001b[0m\u001b[1;33m\u001b[0m\u001b[0m\n\u001b[0;32m    246\u001b[0m             \u001b[1;32mraise\u001b[0m \u001b[0mexception_class\u001b[0m\u001b[1;33m(\u001b[0m\u001b[0mmessage\u001b[0m\u001b[1;33m,\u001b[0m \u001b[0mscreen\u001b[0m\u001b[1;33m,\u001b[0m \u001b[0mstacktrace\u001b[0m\u001b[1;33m,\u001b[0m \u001b[0malert_text\u001b[0m\u001b[1;33m)\u001b[0m  \u001b[1;31m# type: ignore[call-arg]  # mypy is not smart enough here\u001b[0m\u001b[1;33m\u001b[0m\u001b[1;33m\u001b[0m\u001b[0m\n\u001b[1;32m--> 247\u001b[1;33m         \u001b[1;32mraise\u001b[0m \u001b[0mexception_class\u001b[0m\u001b[1;33m(\u001b[0m\u001b[0mmessage\u001b[0m\u001b[1;33m,\u001b[0m \u001b[0mscreen\u001b[0m\u001b[1;33m,\u001b[0m \u001b[0mstacktrace\u001b[0m\u001b[1;33m)\u001b[0m\u001b[1;33m\u001b[0m\u001b[1;33m\u001b[0m\u001b[0m\n\u001b[0m\u001b[0;32m    248\u001b[0m \u001b[1;33m\u001b[0m\u001b[0m\n\u001b[0;32m    249\u001b[0m     \u001b[1;32mdef\u001b[0m \u001b[0m_value_or_default\u001b[0m\u001b[1;33m(\u001b[0m\u001b[0mself\u001b[0m\u001b[1;33m,\u001b[0m \u001b[0mobj\u001b[0m\u001b[1;33m:\u001b[0m \u001b[0mMapping\u001b[0m\u001b[1;33m[\u001b[0m\u001b[0m_KT\u001b[0m\u001b[1;33m,\u001b[0m \u001b[0m_VT\u001b[0m\u001b[1;33m]\u001b[0m\u001b[1;33m,\u001b[0m \u001b[0mkey\u001b[0m\u001b[1;33m:\u001b[0m \u001b[0m_KT\u001b[0m\u001b[1;33m,\u001b[0m \u001b[0mdefault\u001b[0m\u001b[1;33m:\u001b[0m \u001b[0m_VT\u001b[0m\u001b[1;33m)\u001b[0m \u001b[1;33m->\u001b[0m \u001b[0m_VT\u001b[0m\u001b[1;33m:\u001b[0m\u001b[1;33m\u001b[0m\u001b[1;33m\u001b[0m\u001b[0m\n",
      "\u001b[1;31mWebDriverException\u001b[0m: Message: disconnected: Unable to receive message from renderer\n  (Session info: chrome=99.0.4844.82)\nStacktrace:\nBacktrace:\n\tOrdinal0 [0x009A9943+2595139]\n\tOrdinal0 [0x0093C9F1+2148849]\n\tOrdinal0 [0x00834528+1066280]\n\tOrdinal0 [0x00825D32+1006898]\n\tOrdinal0 [0x00824AD0+1002192]\n\tOrdinal0 [0x008250D8+1003736]\n\tOrdinal0 [0x0083C6EF+1099503]\n\tOrdinal0 [0x0083692B+1075499]\n\tOrdinal0 [0x008364A5+1074341]\n\tOrdinal0 [0x00836C7B+1076347]\n\tOrdinal0 [0x00836F50+1077072]\n\tOrdinal0 [0x00860D1E+1248542]\n\tOrdinal0 [0x008611CB+1249739]\n\tOrdinal0 [0x0088D84C+1431628]\n\tOrdinal0 [0x0087BA34+1358388]\n\tOrdinal0 [0x0088BAF2+1424114]\n\tOrdinal0 [0x0087B806+1357830]\n\tOrdinal0 [0x00856086+1204358]\n\tOrdinal0 [0x00856F96+1208214]\n\tGetHandleVerifier [0x00B4B232+1658114]\n\tGetHandleVerifier [0x00C0312C+2411516]\n\tGetHandleVerifier [0x00A3F261+560433]\n\tGetHandleVerifier [0x00A3E366+556598]\n\tOrdinal0 [0x0094286B+2173035]\n\tOrdinal0 [0x009475F8+2192888]\n\tOrdinal0 [0x009476E5+2193125]\n\tOrdinal0 [0x009511FC+2232828]\n\tBaseThreadInitThunk [0x74C86739+25]\n\tRtlGetFullPathName_UEx [0x76F48E7F+1215]\n\tRtlGetFullPathName_UEx [0x76F48E4D+1165]\n"
     ]
    }
   ],
   "source": [
    "# 강의목록부터 일단 크롤링해보자..!\n",
    "\n",
    "import re\n",
    "from bs4 import BeautifulSoup\n",
    "from time import sleep\n",
    "from openpyxl import Workbook,load_workbook\n",
    "\n",
    "driver.get('https://everytime.kr/timetable')\n",
    "\n",
    "#수업 목록에서 검색 클릭\n",
    "driver.find_element_by_xpath('//*[@id=\"container\"]/ul/li[1]').click()\n",
    "\n",
    "\n",
    "last_page_height = driver.execute_script(\"return document.documentElement.scrollHeight\")\n",
    "while True:\n",
    "    driver.execute_script(\"window.scrollTo(0, document.documentElement.scrollHeight);\")\n",
    "    time.sleep(5)\n",
    "    new_page_height = driver.execute_script(\"return document.documentElement.scrollHeight\")\n",
    "    if new_page_height == last_page_height:\n",
    "        time.sleep(5)\n",
    "        if new_page_height == driver.execute_script(\"return document.documentElement.scrollHeight\"):\n",
    "            break\n",
    "    else:\n",
    "        last_page_height = new_page_height\n",
    "\n",
    "while True:\n",
    "    #tr요소 접근\n",
    "    element = driver.find_elements_by_css_selector(\"#subjects > div.list > table > tbody > tr\")\n",
    "\n",
    "    # tr 마지막 요소 접근\n",
    "    result = element[-1]\n",
    "    #마지막요소에 focus주기\n",
    "    driver.execute_script('arguments[0].scrollIntoView(true);',result)\n",
    "    driver.implicitly_wait(2)\n",
    "\n",
    "\n",
    "html = driver.page_source\n",
    "soup = BeautifulSoup(html, 'html.parser')\n",
    "\n",
    "trs = soup.select('#subjects > div.list > table > tbody > tr')\n",
    "\n",
    "results = []\n",
    "\n",
    "for tr in trs:\n",
    "    result=[]\n",
    "    tds = tr.select('#subjects > div.list > table > tbody > tr > td')\n",
    "    result.append(tds[0].text) #과목코드\n",
    "    result.append(tds[1].text) #구분\n",
    "    result.append(tds[2].text) #과정\n",
    "    result.append(tds[3].text) #학년\n",
    "    result.append(tds[4].text) #교과목번호\n",
    "    result.append(tds[5].text) #교과목명\n",
    "    result.append(tds[6].text) #담당교수\n",
    "    result.append(tds[7].text) #학점\n",
    "    results.append(result)\n",
    "#값이 들어있다면!\n",
    "if results:\n",
    "    print(\"성공!!\")\n",
    "excel_column = 9\n",
    "write_wb = Workbook()\n",
    "write_ws = write_wb.create_sheet('result.xls')\n",
    "for data in results:\n",
    "    write_ws = write_wb.active\n",
    "    write_ws.append(data)\n",
    "write_wb.save('C:/Users/chemt/Desktop/result2.csv') #전부 다 크롤링이 안되는 문제 발생..."
   ]
  },
  {
   "cell_type": "code",
   "execution_count": 6,
   "id": "fc51f70f",
   "metadata": {},
   "outputs": [
    {
     "name": "stdout",
     "output_type": "stream",
     "text": [
      "200001 Nonetype\n",
      "200002 Nonetype\n",
      "200003 Nonetype\n",
      "200004 Nonetype\n",
      "200005 Nonetype\n",
      "200006 Nonetype\n",
      "200007 Nonetype\n"
     ]
    },
    {
     "ename": "KeyboardInterrupt",
     "evalue": "",
     "output_type": "error",
     "traceback": [
      "\u001b[1;31m---------------------------------------------------------------------------\u001b[0m",
      "\u001b[1;31mKeyboardInterrupt\u001b[0m                         Traceback (most recent call last)",
      "\u001b[1;32m~\\AppData\\Local\\Temp/ipykernel_12140/380766346.py\u001b[0m in \u001b[0;36m<module>\u001b[1;34m\u001b[0m\n\u001b[0;32m     12\u001b[0m     \u001b[0murl\u001b[0m \u001b[1;33m=\u001b[0m \u001b[1;34m\"https://everytime.kr/lecture/view/\"\u001b[0m\u001b[1;33m+\u001b[0m\u001b[0mstr\u001b[0m\u001b[1;33m(\u001b[0m\u001b[0murl_id\u001b[0m\u001b[1;33m)\u001b[0m\u001b[1;33m\u001b[0m\u001b[1;33m\u001b[0m\u001b[0m\n\u001b[0;32m     13\u001b[0m     \u001b[0mrand_value\u001b[0m \u001b[1;33m=\u001b[0m \u001b[0mrandom\u001b[0m\u001b[1;33m.\u001b[0m\u001b[0muniform\u001b[0m\u001b[1;33m(\u001b[0m\u001b[1;36m2\u001b[0m\u001b[1;33m,\u001b[0m\u001b[1;36m5\u001b[0m\u001b[1;33m)\u001b[0m\u001b[1;33m\u001b[0m\u001b[1;33m\u001b[0m\u001b[0m\n\u001b[1;32m---> 14\u001b[1;33m     \u001b[0mtime\u001b[0m\u001b[1;33m.\u001b[0m\u001b[0msleep\u001b[0m\u001b[1;33m(\u001b[0m\u001b[0mrand_value\u001b[0m\u001b[1;33m)\u001b[0m\u001b[1;33m\u001b[0m\u001b[1;33m\u001b[0m\u001b[0m\n\u001b[0m\u001b[0;32m     15\u001b[0m     \u001b[0mdriver\u001b[0m\u001b[1;33m.\u001b[0m\u001b[0mget\u001b[0m\u001b[1;33m(\u001b[0m\u001b[0murl\u001b[0m\u001b[1;33m)\u001b[0m\u001b[1;33m\u001b[0m\u001b[1;33m\u001b[0m\u001b[0m\n\u001b[0;32m     16\u001b[0m \u001b[1;33m\u001b[0m\u001b[0m\n",
      "\u001b[1;31mKeyboardInterrupt\u001b[0m: "
     ]
    }
   ],
   "source": [
    "import re\n",
    "from bs4 import BeautifulSoup\n",
    "\n",
    "#강의 -> 강의평가\n",
    "lecture_review_list=[]\n",
    "url_id_list = \n",
    "\n",
    "\n",
    "for url_id in url_id_list:\n",
    "    #강의 페이지로 넘어가기\n",
    "    url_id = url_id + 1\n",
    "    url = \"https://everytime.kr/lecture/view/\"+str(url_id)\n",
    "    rand_value = random.uniform(2,5)\n",
    "    time.sleep(rand_value)\n",
    "    driver.get(url)\n",
    "    \n",
    "    #하나의 강의 평가 페이지 bs로 데이터 수집\n",
    "    time.sleep(3)\n",
    "    html = driver.page_source\n",
    "    soup = BeautifulSoup(html,'html.parser') #정적텍스트 분석을 사용하는 BS이 selenium보다 빠름 -> 페이지접근에는 동적 수집, 데이터 수집은 정적수집적\n",
    "    \n",
    "    lecture_name = soup.select_one(\"#container > div.side.head > h2\").text\n",
    "    professor_name = soup.select_one(\"#container > div.side.head > p:nth-of-type(1) > span\").text\n",
    "    review_list = soup.select(\"article\")\n",
    "    print(lecture_name, professor_name)"
   ]
  },
  {
   "cell_type": "code",
   "execution_count": null,
   "id": "107bff46",
   "metadata": {},
   "outputs": [],
   "source": [
    " #강의리뷰 \n",
    "    index = 0\n",
    "    for review in review_list:\n",
    "        if review.select_one('div.pay') == None: #강의평가가 아니라 중간,기말고사 족보\n",
    "            rate = review.select_one('p.rate > span > span')[\"style\"] #str사용해야 re사용가능\n",
    "            rate = float(rate[-5:-2]) #숫자만 (리스트형태로 return되는데 [0]하면 오류뜸...)\n",
    "            semester = review.select_one('p.info > span.semester').text\n",
    "            semester = int(semester[0:2])\n",
    "            text = review.select_one('p.text').text\n",
    "            like = review.select_one(\"p.info > span.posvote\")\n",
    "            if like == None:\n",
    "                like = 0\n",
    "            else:\n",
    "                like = int(like.text)\n",
    "        \n",
    "            lecture_review_list.append({\n",
    "                \"url_id\"         : url_id,\n",
    "                \"index\"          : index,\n",
    "                \"lecture_name\"   : lecture_name,\n",
    "                \"professor_name\" : professor_name,\n",
    "                \"rate\"           : rate,\n",
    "                \"semester\"       : semester,\n",
    "                \"like\"           : like,\n",
    "                 \"text\"          : text\n",
    "               }\n",
    "            )\n",
    "            index+=1"
   ]
  },
  {
   "cell_type": "code",
   "execution_count": null,
   "id": "437c0e10",
   "metadata": {},
   "outputs": [],
   "source": [
    "df = pd.DataFrame(lecture_review_list)"
   ]
  },
  {
   "cell_type": "code",
   "execution_count": null,
   "id": "b690ce25",
   "metadata": {},
   "outputs": [],
   "source": [
    "df.to_excel('review.xlsx')"
   ]
  }
 ],
 "metadata": {
  "kernelspec": {
   "display_name": "Python 3 (ipykernel)",
   "language": "python",
   "name": "python3"
  },
  "language_info": {
   "codemirror_mode": {
    "name": "ipython",
    "version": 3
   },
   "file_extension": ".py",
   "mimetype": "text/x-python",
   "name": "python",
   "nbconvert_exporter": "python",
   "pygments_lexer": "ipython3",
   "version": "3.9.7"
  }
 },
 "nbformat": 4,
 "nbformat_minor": 5
}
